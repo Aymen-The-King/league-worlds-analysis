{
 "cells": [
  {
   "cell_type": "code",
   "execution_count": 4,
   "id": "4988b3a1",
   "metadata": {},
   "outputs": [
    {
     "ename": "ModuleNotFoundError",
     "evalue": "No module named 'ranking'",
     "output_type": "error",
     "traceback": [
      "\u001b[1;31m---------------------------------------------------------------------------\u001b[0m",
      "\u001b[1;31mModuleNotFoundError\u001b[0m                       Traceback (most recent call last)",
      "\u001b[1;32m~\\AppData\\Local\\Temp\\ipykernel_3192\\1242339484.py\u001b[0m in \u001b[0;36m<module>\u001b[1;34m\u001b[0m\n\u001b[0;32m      2\u001b[0m \u001b[1;32mfrom\u001b[0m \u001b[0mitertools\u001b[0m \u001b[1;32mimport\u001b[0m \u001b[0mproduct\u001b[0m\u001b[1;33m\u001b[0m\u001b[1;33m\u001b[0m\u001b[0m\n\u001b[0;32m      3\u001b[0m \u001b[1;32mfrom\u001b[0m \u001b[0msrc\u001b[0m\u001b[1;33m.\u001b[0m\u001b[0mranking\u001b[0m \u001b[1;32mimport\u001b[0m \u001b[0mcalculate_ranking\u001b[0m\u001b[1;33m\u001b[0m\u001b[1;33m\u001b[0m\u001b[0m\n\u001b[1;32m----> 4\u001b[1;33m \u001b[1;32mfrom\u001b[0m \u001b[0msrc\u001b[0m\u001b[1;33m.\u001b[0m\u001b[0msimulation\u001b[0m \u001b[1;32mimport\u001b[0m \u001b[0msimulate_round_all\u001b[0m\u001b[1;33m\u001b[0m\u001b[1;33m\u001b[0m\u001b[0m\n\u001b[0m",
      "\u001b[1;32m~\\Documents\\Projects\\Lol swiss\\league_worlds_analysis\\src\\simulation.py\u001b[0m in \u001b[0;36m<module>\u001b[1;34m\u001b[0m\n\u001b[0;32m      1\u001b[0m \u001b[1;32mimport\u001b[0m \u001b[0mpandas\u001b[0m \u001b[1;32mas\u001b[0m \u001b[0mpd\u001b[0m\u001b[1;33m\u001b[0m\u001b[1;33m\u001b[0m\u001b[0m\n\u001b[0;32m      2\u001b[0m \u001b[1;32mfrom\u001b[0m \u001b[0mitertools\u001b[0m \u001b[1;32mimport\u001b[0m \u001b[0mcombinations\u001b[0m\u001b[1;33m\u001b[0m\u001b[1;33m\u001b[0m\u001b[0m\n\u001b[1;32m----> 3\u001b[1;33m \u001b[1;32mfrom\u001b[0m \u001b[0mranking\u001b[0m \u001b[1;32mimport\u001b[0m \u001b[0mcalculate_ranking\u001b[0m\u001b[1;33m\u001b[0m\u001b[1;33m\u001b[0m\u001b[0m\n\u001b[0m\u001b[0;32m      4\u001b[0m \u001b[1;32mfrom\u001b[0m \u001b[0mutils\u001b[0m \u001b[1;32mimport\u001b[0m \u001b[0mcheck_repeat_matchup\u001b[0m\u001b[1;33m\u001b[0m\u001b[1;33m\u001b[0m\u001b[0m\n\u001b[0;32m      5\u001b[0m \u001b[1;33m\u001b[0m\u001b[0m\n",
      "\u001b[1;31mModuleNotFoundError\u001b[0m: No module named 'ranking'"
     ]
    }
   ],
   "source": [
    "import pandas as pd\n",
    "from itertools import product\n",
    "from src.ranking import calculate_ranking\n",
    "from src.simulation import simulate_round_all"
   ]
  },
  {
   "cell_type": "code",
   "execution_count": null,
   "id": "c99afc2c",
   "metadata": {},
   "outputs": [],
   "source": [
    "def calculate_round5_probabilities(df, round_num):\n",
    "    \"\"\"\n",
    "    Calculate the probability for each team to need to play in Round 5 after Round 4.\n",
    "\n",
    "    Args:\n",
    "    - df: DataFrame containing match results up to Round 3.\n",
    "    - round_num: The current round number (should be 4).\n",
    "\n",
    "    Returns:\n",
    "    - A DataFrame with teams and their probabilities to play in Round 5.\n",
    "    \"\"\"\n",
    "    # Get current standings after Round 3\n",
    "    current_ranking = calculate_ranking(df, round_num - 1)\n",
    "    teams = current_ranking[\"Team\"].tolist()\n",
    "    team_records = current_ranking.set_index(\"Team\")[[\"Wins\", \"Losses\"]].to_dict(\"index\")\n",
    "    \n",
    "    # Get Round 4 matchups\n",
    "    matchups = round4_df[[\"T1\", \"T2\"]].values.tolist()\n",
    "    \n",
    "    # Total possible outcomes\n",
    "    total_outcomes = 2 ** len(matchups)\n",
    "    \n",
    "    # Initialize a dictionary to count the number of times each team needs to play in Round 5\n",
    "    round5_counts = {team: 0 for team in teams}\n",
    "    \n",
    "    # Generate all possible outcomes\n",
    "    outcome_list = list(product([0, 1], repeat=len(matchups)))\n",
    "    \n",
    "    for outcome in outcome_list:\n",
    "        # Copy team records for this scenario\n",
    "        scenario_records = {team: rec.copy() for team, rec in team_records.items()}\n",
    "        \n",
    "        # Apply the outcomes to the matchups\n",
    "        for idx, result in enumerate(outcome):\n",
    "            t1, t2 = matchups[idx]\n",
    "            # If result == 1, t1 wins; else t2 wins\n",
    "            if result == 1:\n",
    "                scenario_records[t1][\"Wins\"] += 1\n",
    "                scenario_records[t2][\"Losses\"] += 1\n",
    "            else:\n",
    "                scenario_records[t1][\"Losses\"] += 1\n",
    "                scenario_records[t2][\"Wins\"] += 1\n",
    "        \n",
    "        # Determine status of each team\n",
    "        for team in teams:\n",
    "            wins = scenario_records[team][\"Wins\"]\n",
    "            losses = scenario_records[team][\"Losses\"]\n",
    "            if wins < 3 and losses < 3:\n",
    "                round5_counts[team] += 1\n",
    "    \n",
    "    # Calculate probabilities\n",
    "    probabilities = {team: count / total_outcomes for team, count in round5_counts.items()}\n",
    "    \n",
    "    # Prepare the result DataFrame\n",
    "    prob_df = pd.DataFrame(list(probabilities.items()), columns=[\"Team\", \"Prob_Round5\"])\n",
    "    prob_df = prob_df.sort_values(by=\"Prob_Round5\", ascending=False).reset_index(drop=True)\n",
    "    \n",
    "    return prob_df\n"
   ]
  }
 ],
 "metadata": {
  "kernelspec": {
   "display_name": "Python 3 (ipykernel)",
   "language": "python",
   "name": "python3"
  },
  "language_info": {
   "codemirror_mode": {
    "name": "ipython",
    "version": 3
   },
   "file_extension": ".py",
   "mimetype": "text/x-python",
   "name": "python",
   "nbconvert_exporter": "python",
   "pygments_lexer": "ipython3",
   "version": "3.9.13"
  }
 },
 "nbformat": 4,
 "nbformat_minor": 5
}
